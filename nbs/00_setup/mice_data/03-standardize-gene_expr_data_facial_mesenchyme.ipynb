{
 "cells": [
  {
   "cell_type": "markdown",
   "id": "130b118e-07c8-47d5-8e69-fb8e5238ad29",
   "metadata": {
    "papermill": {
     "duration": 0.002814,
     "end_time": "2025-04-05T17:33:01.362073",
     "exception": false,
     "start_time": "2025-04-05T17:33:01.359259",
     "status": "completed"
    },
    "tags": []
   },
   "source": [
    "# Description"
   ]
  },
  {
   "cell_type": "markdown",
   "id": "f1211a97-fde8-48b0-80f2-f9be68d782e1",
   "metadata": {
    "papermill": {
     "duration": 0.002906,
     "end_time": "2025-04-05T17:33:01.367382",
     "exception": false,
     "start_time": "2025-04-05T17:33:01.364476",
     "status": "completed"
    },
    "tags": []
   },
   "source": [
    "It reads the entire Mice data set, performs some preprocessing and then standardizes the data to have mean 0 and std 1."
   ]
  },
  {
   "cell_type": "markdown",
   "id": "e613015d-3f3e-42de-922c-c8eb3f5cbf91",
   "metadata": {
    "papermill": {
     "duration": 0.002287,
     "end_time": "2025-04-05T17:33:01.372019",
     "exception": false,
     "start_time": "2025-04-05T17:33:01.369732",
     "status": "completed"
    },
    "tags": []
   },
   "source": [
    "# Modules"
   ]
  },
  {
   "cell_type": "code",
   "execution_count": 2,
   "id": "fcb273bc-4394-4eec-966c-e58d092f2359",
   "metadata": {
    "papermill": {
     "duration": 0.565214,
     "end_time": "2025-04-05T17:33:01.939555",
     "exception": false,
     "start_time": "2025-04-05T17:33:01.374341",
     "status": "completed"
    },
    "tags": []
   },
   "outputs": [],
   "source": [
    "# reload imported modules if changed\n",
    "%load_ext autoreload\n",
    "%autoreload 2\n",
    "\n",
    "import numpy as np\n",
    "import pandas as pd\n",
    "from IPython.display import display\n",
    "import preprocess_expression as pe\n",
    "from gprofiler import GProfiler\n",
    "# import pymart \n",
    "# import biomart \n",
    "# from sklearn.decomposition import PCA\n",
    "from sklearn.preprocessing import StandardScaler\n",
    "\n",
    "from pvae import conf"
   ]
  },
  {
   "cell_type": "markdown",
   "id": "3faafb08-353f-458d-a3db-4b7e2bd910fb",
   "metadata": {
    "papermill": {
     "duration": 0.003923,
     "end_time": "2025-04-05T17:33:01.947329",
     "exception": false,
     "start_time": "2025-04-05T17:33:01.943406",
     "status": "completed"
    },
    "tags": []
   },
   "source": [
    "# Settings and paths"
   ]
  },
  {
   "cell_type": "code",
   "execution_count": 3,
   "id": "fc53593f-6698-4fd9-abc6-d7d8a7b9ed85",
   "metadata": {
    "papermill": {
     "duration": 0.018908,
     "end_time": "2025-04-05T17:33:01.969824",
     "exception": false,
     "start_time": "2025-04-05T17:33:01.950916",
     "status": "completed"
    },
    "tags": []
   },
   "outputs": [
    {
     "data": {
      "text/plain": [
       "PosixPath('/home/prashant/Documents/milton_lab/pvae/base/input/mice_data/processed')"
      ]
     },
     "metadata": {},
     "output_type": "display_data"
    },
    {
     "data": {
      "text/plain": [
       "PosixPath('/home/prashant/Documents/milton_lab/pvae/base/input/mice_data/orig')"
      ]
     },
     "metadata": {},
     "output_type": "display_data"
    }
   ],
   "source": [
    "conf.data.MICE_PROCESSED_DIR.mkdir(parents=True, exist_ok=True)\n",
    "conf.data.MICE_ORIG_DIR.mkdir(parents=True, exist_ok=True)\n",
    "display(conf.data.MICE_PROCESSED_DIR)\n",
    "display(conf.data.MICE_ORIG_DIR)"
   ]
  },
  {
   "cell_type": "code",
   "execution_count": 4,
   "id": "3d4b30ed-bc04-4cc9-9b20-26250704d52e",
   "metadata": {
    "papermill": {
     "duration": 0.015084,
     "end_time": "2025-04-05T17:33:01.988594",
     "exception": false,
     "start_time": "2025-04-05T17:33:01.973510",
     "status": "completed"
    },
    "tags": [
     "inout_defs"
    ]
   },
   "outputs": [],
   "source": [
    "# INPUT_FILES and OUTPUT_FILES must be provided if running with pytask\n",
    "INPUT_FILES = {\n",
    "    \"gene_count\": conf.data.MICE_ORIG_DIR/\n",
    "    \"GSE218887_Dp16_Norm_E10.5_facial_mesenchyme_GencodevM24_counts.txt\",\n",
    "    \"gene_length\": conf.data.MICE_ORIG_DIR/\n",
    "    \"gene_lengths.tsv\",\n",
    "    \"extended_gene_pathway\": conf.data.MICE_ORIG_DIR/\n",
    "    \"extended_plier_pathways.tsv\",\n",
    "}\n",
    "\n",
    "OUTPUT_FILES = {\n",
    "    \"mice_gene_expr_facial_mesenchyme_rpkm_std\": conf.data.MICE_PROCESSED_DIR\n",
    "    / \"mice_gene_expr_facial_mesenchyme_rpkm_std.ftr\",\n",
    "    \"mice_gene_expr_facial_mesenchyme_rpkm_std_log\": conf.data.MICE_PROCESSED_DIR\n",
    "    / \"mice_gene_expr_facial_mesenchyme_rpkm_std_log.ftr\",\n",
    "}"
   ]
  },
  {
   "cell_type": "markdown",
   "id": "79e19534-8c9a-46b2-b295-4c35194c9f34",
   "metadata": {},
   "source": [
    "# Save Original data with rkpm normalized #"
   ]
  },
  {
   "cell_type": "code",
   "execution_count": 5,
   "id": "c5c93daa-d662-44ba-be65-55169b1be371",
   "metadata": {},
   "outputs": [
    {
     "name": "stdout",
     "output_type": "stream",
     "text": [
      "Total gene ids not found in gprofiler:  3273 out of total gene ids 55385\n",
      "Total bad_indices : 43328\n",
      "(10851,)\n",
      "(10851,)\n"
     ]
    }
   ],
   "source": [
    "rpkm_normalized_df = pe.calculate_rkpm_normalization(INPUT_FILES[\"gene_count\"], INPUT_FILES[\"gene_length\"], INPUT_FILES[\"extended_gene_pathway\"],\n",
    "                 OUTPUT_FILES[\"mice_gene_expr_facial_mesenchyme_rpkm_std\"])  "
   ]
  },
  {
   "cell_type": "code",
   "execution_count": 6,
   "id": "2b4721f7-deb3-4799-af5a-5999ec01fe27",
   "metadata": {},
   "outputs": [
    {
     "data": {
      "text/plain": [
       "(10851, 9)"
      ]
     },
     "execution_count": 6,
     "metadata": {},
     "output_type": "execute_result"
    }
   ],
   "source": [
    "rpkm_normalized_df.shape"
   ]
  },
  {
   "cell_type": "markdown",
   "id": "fae12734-84c5-48f0-a080-7b11f7784579",
   "metadata": {},
   "source": [
    "# Save log2(data + 1)"
   ]
  },
  {
   "cell_type": "code",
   "execution_count": 5,
   "id": "ca48a5e8-e817-4dd0-8ea8-03df3bf0795e",
   "metadata": {},
   "outputs": [
    {
     "name": "stderr",
     "output_type": "stream",
     "text": [
      "/home/prashant/miniconda3/envs/pvae/lib/python3.12/site-packages/pandas/core/internals/blocks.py:393: RuntimeWarning: invalid value encountered in log2\n",
      "  result = func(self.values, **kwargs)\n"
     ]
    },
    {
     "data": {
      "text/plain": [
       "np.True_"
      ]
     },
     "metadata": {},
     "output_type": "display_data"
    },
    {
     "name": "stdout",
     "output_type": "stream",
     "text": [
      "Number of nan values : 3\n"
     ]
    }
   ],
   "source": [
    "rpkm_normalized_df_log = np.log2(rpkm_normalized_df + 2)\n",
    "display(rpkm_normalized_df_log.isna().any(axis=None))\n",
    "print(\"Number of nan values :\", rpkm_normalized_df_log.isna().sum().sum())\n",
    "rpkm_normalized_df_log = rpkm_normalized_df_log.fillna(0)\n",
    "rpkm_normalized_df_log.head()\n",
    "rpkm_normalized_df_log.to_feather(OUTPUT_FILES[\"mice_gene_expr_facial_mesenchyme_rpkm_std_log\"])"
   ]
  },
  {
   "cell_type": "code",
   "execution_count": null,
   "id": "d87a85b1-ca00-4aa5-8aec-74d29df94aaa",
   "metadata": {},
   "outputs": [],
   "source": []
  }
 ],
 "metadata": {
  "jupytext": {
   "cell_metadata_filter": "all,-execution,-papermill,-trusted",
   "notebook_metadata_filter": "-jupytext.text_representation.jupytext_version"
  },
  "kernelspec": {
   "display_name": "pvae",
   "language": "python",
   "name": "pvae"
  },
  "language_info": {
   "codemirror_mode": {
    "name": "ipython",
    "version": 3
   },
   "file_extension": ".py",
   "mimetype": "text/x-python",
   "name": "python",
   "nbconvert_exporter": "python",
   "pygments_lexer": "ipython3",
   "version": "3.12.9"
  },
  "papermill": {
   "default_parameters": {},
   "duration": 53.836172,
   "end_time": "2025-04-05T17:33:54.513677",
   "environment_variables": {},
   "exception": null,
   "input_path": "/home/miltondp/projects/pivlab/pvae/pvae/nbs/00_setup/gtex_v8/03-standardize-gene_expr_data.ipynb",
   "output_path": "/home/miltondp/projects/pivlab/pvae/pvae/nbs/00_setup/gtex_v8/03-standardize-gene_expr_data.run.ipynb",
   "parameters": {},
   "start_time": "2025-04-05T17:33:00.677505",
   "version": "2.3.4"
  }
 },
 "nbformat": 4,
 "nbformat_minor": 5
}
